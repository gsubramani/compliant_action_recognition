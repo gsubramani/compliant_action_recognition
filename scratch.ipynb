{
 "cells": [
  {
   "cell_type": "code",
   "execution_count": 54,
   "metadata": {
    "collapsed": true
   },
   "outputs": [],
   "source": [
    "import numpy as np\n",
    "import cPickle as pickle"
   ]
  },
  {
   "cell_type": "code",
   "execution_count": 49,
   "metadata": {},
   "outputs": [],
   "source": [
    "timestamps = range(1000,1100)\n",
    "labels = ['hello']*20 + ['goodbye']*60 + ['bye bye']*20\n",
    "subsampled_labels = labels[0:-1:10]\n",
    "subsampled_timestamps = timestamps[0:-1:10]\n"
   ]
  },
  {
   "cell_type": "code",
   "execution_count": null,
   "metadata": {},
   "outputs": [],
   "source": [
    "(predict_list_sorted,predictions_timestamps,timestamps) = pickle.load(open( \"debug.pkl\", \"rb\" ))"
   ]
  },
  {
   "cell_type": "code",
   "execution_count": 84,
   "metadata": {},
   "outputs": [],
   "source": [
    "def upsample_labels(subsampled_labels,subsampled_timestamps,timestamps):\n",
    "    subsampled_timestamps = np.array(subsampled_timestamps)\n",
    "    timestamps = np.array(timestamps)\n",
    "    multiplier = (len(subsampled_timestamps) - 1)/(max(subsampled_timestamps) - min(subsampled_timestamps)).astype(float)\n",
    "    ids = np.floor((timestamps - min(timestamps))*multiplier).astype(int)\n",
    "    ids[ids >= len(subsampled_labels)] = len(subsampled_labels) - 1\n",
    "    \n",
    "    return [subsampled_labels[ii] for ii in ids]\n",
    "aa = upsample_labels(predict_list_sorted,predictions_timestamps,timestamps)\n"
   ]
  },
  {
   "cell_type": "code",
   "execution_count": 68,
   "metadata": {},
   "outputs": [],
   "source": [
    ""
   ]
  },
  {
   "cell_type": "code",
   "execution_count": 77,
   "metadata": {},
   "outputs": [
    {
     "name": "stdout",
     "output_type": "stream",
     "text": [
      "[  0   0   0 ... 414 414 414]\n"
     ]
    }
   ],
   "source": [
    "print upsample_labels(predict_list_sorted,predictions_timestamps,timestamps)"
   ]
  }
 ],
 "metadata": {
  "kernelspec": {
   "display_name": "Python 2",
   "language": "python",
   "name": "python2"
  },
  "language_info": {
   "codemirror_mode": {
    "name": "ipython",
    "version": 2
   },
   "file_extension": ".py",
   "mimetype": "text/x-python",
   "name": "python",
   "nbconvert_exporter": "python",
   "pygments_lexer": "ipython2",
   "version": "2.7.6"
  }
 },
 "nbformat": 4,
 "nbformat_minor": 0
}
