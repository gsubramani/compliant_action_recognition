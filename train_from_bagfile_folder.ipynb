{
 "cells": [
  {
   "cell_type": "code",
   "execution_count": 1,
   "metadata": {
    "collapsed": false
   },
   "outputs": [
    {
     "name": "stderr",
     "output_type": "stream",
     "text": [
      "/home/guru/Dropbox/lab-hp/workspace/research/end_to_end/end_to_end_env/local/lib/python2.7/site-packages/h5py/__init__.py:36: FutureWarning: Conversion of the second argument of issubdtype from `float` to `np.floating` is deprecated. In future, it will be treated as `np.float64 == np.dtype(float).type`.\n  from ._conv import register_converters as _register_converters\nUsing TensorFlow backend.\n"
     ]
    }
   ],
   "source": [
    "from compliant_action_recognition import CompliantActionRecognition, meta_data\n",
    "from time_series_learning import relabel_data,get_signal_features,LSTM_model,SeqGen,\\\n",
    "    load_db,get_wavelet_features,sortify,upsample_labels\n",
    "import matplotlib.pyplot as plt\n",
    "from plot_generator import plotResult_colorbars\n",
    "from time_series_learning import  bag_file_to_labeled_data\n",
    "import os\n"
   ]
  },
  {
   "cell_type": "code",
   "execution_count": 2,
   "metadata": {},
   "outputs": [],
   "source": [
    "\n",
    "folder_location = \"/home/guru/Dropbox/lab-hp/workspace/research/end_to_end/data\"+ \\\n",
    "    \"/july26/labeled_bagfiles/\""
   ]
  },
  {
   "cell_type": "code",
   "execution_count": 3,
   "metadata": {},
   "outputs": [],
   "source": [
    "folder_location = \"/media/fast/\"\n"
   ]
  },
  {
   "cell_type": "code",
   "execution_count": 4,
   "metadata": {
    "collapsed": false
   },
   "outputs": [
    {
     "name": "stdout",
     "output_type": "stream",
     "text": [
      "['openDrawer12.bag', 'openDrawer11.bag', 'openDrawer10.bag', 'openDrawer9.bag', 'openDrawer8.bag', 'openDrawer7.bag', 'openDrawer6.bag', 'openDrawer5.bag', 'openDrawer4.bag', 'openDrawer3.bag', 'openDrawer2.bag', 'openDrawer1.bag', 'closeDrawer12.bag', 'closeDrawer11.bag', 'closeDrawer10.bag', 'closeDrawer9.bag', 'closeDrawer8.bag', 'closeDrawer7.bag', 'closeDrawer6.bag', 'closeDrawer5.bag', 'closeDrawer4.bag', 'closeDrawer3.bag', 'closeDrawer2.bag', 'closeDrawer1.bag']\n"
     ]
    }
   ],
   "source": [
    "file_names = os.listdir(folder_location)\n",
    "print file_names"
   ]
  },
  {
   "cell_type": "code",
   "execution_count": 5,
   "metadata": {},
   "outputs": [],
   "source": [
    "# \n",
    "# results_list = [object() for ii in range(len(file_names))]\n",
    "# threads = []\n",
    "# \n",
    "# def wrapper(bagfile_name,results_list,ii):\n",
    "#     ld = bag_file_to_labeled_data(folder_location + bagfile_name,label_topic=\"/labels\")\n",
    "#     results_list[ii] = ld\n",
    "# \n",
    "# for ii,file_name in enumerate(file_names):\n",
    "#     # if ii > 2:\n",
    "#     #     break\n",
    "#     thread = threading.Thread(target = wrapper,args = (file_name, results_list,ii))\n",
    "#     thread.start()\n",
    "#     threads.append(thread)\n",
    "#     \n",
    "# print file_names\n"
   ]
  },
  {
   "cell_type": "code",
   "execution_count": 16,
   "metadata": {},
   "outputs": [],
   "source": [
    "%load_ext autotime"
   ]
  },
  {
   "cell_type": "code",
   "execution_count": 8,
   "metadata": {},
   "outputs": [
    {
     "name": "stdout",
     "output_type": "stream",
     "text": [
      "0\n"
     ]
    },
    {
     "name": "stdout",
     "output_type": "stream",
     "text": [
      "1\n"
     ]
    },
    {
     "name": "stdout",
     "output_type": "stream",
     "text": [
      "2\n"
     ]
    },
    {
     "name": "stdout",
     "output_type": "stream",
     "text": [
      "3\n"
     ]
    },
    {
     "name": "stdout",
     "output_type": "stream",
     "text": [
      "4\n"
     ]
    },
    {
     "name": "stdout",
     "output_type": "stream",
     "text": [
      "5\n"
     ]
    },
    {
     "name": "stdout",
     "output_type": "stream",
     "text": [
      "6\n"
     ]
    },
    {
     "name": "stdout",
     "output_type": "stream",
     "text": [
      "7\n"
     ]
    },
    {
     "name": "stdout",
     "output_type": "stream",
     "text": [
      "8\n"
     ]
    },
    {
     "name": "stdout",
     "output_type": "stream",
     "text": [
      "9\n"
     ]
    },
    {
     "name": "stdout",
     "output_type": "stream",
     "text": [
      "10\n"
     ]
    },
    {
     "name": "stdout",
     "output_type": "stream",
     "text": [
      "11\n"
     ]
    },
    {
     "name": "stdout",
     "output_type": "stream",
     "text": [
      "12\n"
     ]
    },
    {
     "name": "stdout",
     "output_type": "stream",
     "text": [
      "13\n"
     ]
    },
    {
     "name": "stdout",
     "output_type": "stream",
     "text": [
      "14\n"
     ]
    },
    {
     "name": "stdout",
     "output_type": "stream",
     "text": [
      "15\n"
     ]
    },
    {
     "name": "stdout",
     "output_type": "stream",
     "text": [
      "16\n"
     ]
    },
    {
     "name": "stdout",
     "output_type": "stream",
     "text": [
      "17\n"
     ]
    },
    {
     "name": "stdout",
     "output_type": "stream",
     "text": [
      "18\n"
     ]
    },
    {
     "name": "stdout",
     "output_type": "stream",
     "text": [
      "19\n"
     ]
    },
    {
     "name": "stdout",
     "output_type": "stream",
     "text": [
      "20\n"
     ]
    },
    {
     "name": "stdout",
     "output_type": "stream",
     "text": [
      "21\n"
     ]
    },
    {
     "name": "stdout",
     "output_type": "stream",
     "text": [
      "22\n"
     ]
    },
    {
     "name": "stdout",
     "output_type": "stream",
     "text": [
      "23\n"
     ]
    }
   ],
   "source": [
    "labeled_data_set_test2 = []\n",
    "for ii,file_name in enumerate(file_names):\n",
    "    # if ii > 1:\n",
    "    #     break\n",
    "    ld = bag_file_to_labeled_data(folder_location + file_name,label_topic=\"/labels\")\n",
    "    labeled_data_set_test2.append(ld)  \n",
    "    print ii\n"
   ]
  },
  {
   "cell_type": "code",
   "execution_count": 9,
   "metadata": {},
   "outputs": [
    {
     "data": {
      "text/plain": [
       "{'', 'grab', 'hold', 'release', 'still'}"
      ]
     },
     "execution_count": 9,
     "metadata": {},
     "output_type": "execute_result"
    }
   ],
   "source": [
    "set(labeled_data_set_test2[0].labels)"
   ]
  },
  {
   "cell_type": "code",
   "execution_count": 10,
   "metadata": {
    "collapsed": false
   },
   "outputs": [
    {
     "name": "stdout",
     "output_type": "stream",
     "text": [
      "(1676506, 4) (1676506,)\n"
     ]
    }
   ],
   "source": [
    "label_map = {\n",
    "        \"grab\": \"grab\",\n",
    "        \"hold\": \"hold\",\n",
    "        \"release\": \"release\",\n",
    "        \"still\": \"still\",\n",
    "        \"\": \"\"\n",
    "    }\n",
    "\n",
    "car = CompliantActionRecognition(labeled_data_set_test2,label_map_in = label_map)\n",
    "car.train_LSTM_wavelet(range(0,len(labeled_data_set_test2)),epochs = 100,batch_size=100,batch_stride=100)\n",
    "car.train_LSTM(range(0,len(labeled_data_set_test2)),epochs = 100,batch_size=100,batch_stride=100)\n",
    "car.save_trained_models(folder = \"./trained_models/train_grab_constraints_july27/\")\n"
   ]
  },
  {
   "cell_type": "code",
   "execution_count": 15,
   "metadata": {
    "collapsed": false
   },
   "outputs": [],
   "source": [
    "car.save_trained_models(folder = \"./trained_models/train_grab_constraints_july27/\")\n",
    "\n"
   ]
  },
  {
   "cell_type": "code",
   "execution_count": null,
   "metadata": {},
   "outputs": [],
   "source": []
  }
 ],
 "metadata": {
  "kernelspec": {
   "display_name": "Python 2",
   "language": "python",
   "name": "python2"
  },
  "language_info": {
   "codemirror_mode": {
    "name": "ipython",
    "version": 2
   },
   "file_extension": ".py",
   "mimetype": "text/x-python",
   "name": "python",
   "nbconvert_exporter": "python",
   "pygments_lexer": "ipython2",
   "version": "2.7.6"
  }
 },
 "nbformat": 4,
 "nbformat_minor": 0
}
