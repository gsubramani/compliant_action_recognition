{
 "cells": [
  {
   "cell_type": "code",
   "execution_count": 1,
   "metadata": {},
   "outputs": [],
   "source": [
    "import numpy as np\n",
    "from sklearn.svm import SVC\n",
    "from sklearn.neighbors import KNeighborsClassifier\n",
    "from copy import deepcopy\n",
    "from label_manipulation import median_filter_labels\n",
    "import tensorflow as tf\n"
   ]
  },
  {
   "cell_type": "code",
   "execution_count": 2,
   "metadata": {},
   "outputs": [],
   "source": [
    "from SignalRecognition.cwt_learner.wavelet_feature_engineering import CWT_learner\n",
    "from signal_database.labelSelectedData import SignalDB,SignalBundle"
   ]
  },
  {
   "cell_type": "code",
   "execution_count": 4,
   "metadata": {},
   "outputs": [],
   "source": [
    "import matplotlib.pyplot as plt\n",
    "from plot_generator import plotResult_colorbars"
   ]
  },
  {
   "cell_type": "code",
   "execution_count": 6,
   "metadata": {
    "collapsed": true
   },
   "outputs": [],
   "source": [
    "sdb = SignalDB('grab_objects', path='./')\n",
    "training_data_ = sdb.get_labeleddata()"
   ]
  },
  {
   "cell_type": "code",
   "execution_count": 7,
   "metadata": {},
   "outputs": [
    {
     "name": "stdout",
     "output_type": "stream",
     "text": [
      "Using matplotlib backend: TkAgg\n"
     ]
    }
   ],
   "source": [
    "%matplotlib"
   ]
  },
  {
   "cell_type": "code",
   "execution_count": 8,
   "metadata": {
    "collapsed": false
   },
   "outputs": [],
   "source": [
    "plt.figure()\n",
    "for ii,example in enumerate(training_data_):\n",
    "    plt.subplot(len(training_data_)*2,1,ii*2 + 1)\n",
    "    for channel in example.signal_bundle.signals:\n",
    "        plt.plot(channel)\n",
    "    plt.subplot(len(training_data_)*2,1,ii*2 + 2)\n",
    "    labels = example.labels\n",
    "    plotResult_colorbars(labels, range(len(labels)))\n",
    "plt.show()"
   ]
  },
  {
   "cell_type": "code",
   "execution_count": 19,
   "metadata": {},
   "outputs": [
    {
     "name": "stdout",
     "output_type": "stream",
     "text": [
      "set(['', 'freespace', 'hold_foamblock', 'grab_hex', 'hand_on', 'grab_cup', 'release_foamblock', 'release_cup', 'hold_cup', 'grab_foamblock', 'still', 'hold_hex', 'release_hex', 'hand_off'])\n"
     ]
    }
   ],
   "source": [
    "all_possible_labels = []\n",
    "for example in training_data_:\n",
    "        all_possible_labels = all_possible_labels + example.labels\n",
    "print set(all_possible_labels)\n",
    "\n"
   ]
  },
  {
   "cell_type": "code",
   "execution_count": 9,
   "metadata": {},
   "outputs": [],
   "source": [
    "training_data_relabeled = deepcopy(training_data_)\n"
   ]
  },
  {
   "cell_type": "code",
   "execution_count": 10,
   "metadata": {},
   "outputs": [],
   "source": [
    "# label map \n",
    "label_map = {\n",
    "    \"freespace\" : \"freespace\",\n",
    "    \"grab_hex\" : \"grab\",\n",
    "    \"grab_cup\" : \"grab\",\n",
    "    \"grab_foamblock\" : \"grab\",\n",
    "    \"release_foamblock\" : \"release\",\n",
    "    \"release_cup\" : \"release\",\n",
    "    \"release_hex\" : \"release\",\n",
    "    \"hold_cup\" : \"hold\",\n",
    "    \"hold_hex\" : \"hold\",\n",
    "    \"hold_foamblock\" : \"hold\",\n",
    "    \"hand_on\" : \"hand_on\",\n",
    "    \"hand_off\" : \"hand_off\",\n",
    "    \"still\" : \"still\",\n",
    "    \"\" : \"\"\n",
    "}\n",
    "\n",
    "\n",
    "\n",
    "for example in training_data_relabeled:\n",
    "        example.labels = [label_map[label] for label in example.labels]\n"
   ]
  },
  {
   "cell_type": "code",
   "execution_count": 12,
   "metadata": {
    "collapsed": true
   },
   "outputs": [],
   "source": [
    "cwt_learn = CWT_learner(signal_indices = [0,1,2,3])\n",
    "training_data = training_data_relabeled[0:10]\n",
    "testing_data = training_data_relabeled[10:15]\n",
    "for ld in training_data:\n",
    "    labels = [label for label in ld.labels]\n",
    "    signals = []\n",
    "    signals.append(list(np.array(ld.signal_bundle.signals[0]) +  np.array(ld.signal_bundle.signals[1]))) \n",
    "    signals.append(ld.signal_bundle.signals[2])\n",
    "    \n",
    "    signals.append(list(np.array(ld.signal_bundle.signals[3]) +  np.array(ld.signal_bundle.signals[4]))) \n",
    "    signals.append(ld.signal_bundle.signals[5])    \n",
    "    \n",
    "    cwt_learn.add_training_data(signals,labels)"
   ]
  },
  {
   "cell_type": "code",
   "execution_count": 13,
   "metadata": {},
   "outputs": [
    {
     "name": "stdout",
     "output_type": "stream",
     "text": [
      "['', 'freespace', 'hold', 'hand_off', 'hand_on', 'release', 'grab', 'still']\n"
     ]
    }
   ],
   "source": [
    "all_labels = []\n",
    "for example in training_data_relabeled:\n",
    "        all_labels = example.labels + all_labels\n",
    "label_types = list(set(all_labels))\n",
    "print label_types"
   ]
  },
  {
   "cell_type": "code",
   "execution_count": 47,
   "metadata": {
    "collapsed": true
   },
   "outputs": [],
   "source": [
    "# cwt_learn.train(classifier=SVC())\n",
    "cwt_learn.train()\n",
    "# cwt_learn.train(classifier=KNeighborsClassifier(n_neighbors=10, algorithm='ball_tree'))"
   ]
  },
  {
   "cell_type": "code",
   "execution_count": 94,
   "metadata": {},
   "outputs": [
    {
     "name": "stdout",
     "output_type": "stream",
     "text": [
      "Using matplotlib backend: TkAgg\n"
     ]
    }
   ],
   "source": [
    "%matplotlib"
   ]
  },
  {
   "cell_type": "code",
   "execution_count": 48,
   "metadata": {
    "collapsed": false
   },
   "outputs": [],
   "source": [
    "fit_labels = []\n",
    "\n",
    "for ii,ld in enumerate(testing_data):\n",
    "    \n",
    "    signals = []\n",
    "    signals.append(list(np.array(ld.signal_bundle.signals[0]) +  np.array(ld.signal_bundle.signals[1]))) \n",
    "    signals.append(ld.signal_bundle.signals[2])\n",
    "    signals.append(list(np.array(ld.signal_bundle.signals[3]) +  np.array(ld.signal_bundle.signals[4]))) \n",
    "    signals.append(ld.signal_bundle.signals[5])    \n",
    "    \n",
    "    labels = cwt_learn.fit(signals)\n",
    "    fit_labels.append(labels)\n",
    "    "
   ]
  },
  {
   "cell_type": "code",
   "execution_count": 54,
   "metadata": {},
   "outputs": [],
   "source": [
    "plt.figure()\n",
    "for ii,(ld,fit_label) in enumerate(zip(testing_data,fit_labels)):\n",
    "    \n",
    "    plt.subplot(len(testing_data)*2,1,ii*2 + 1)\n",
    "    plotResult_colorbars(fit_label, range(len(fit_label)),labelNames=label_types)\n",
    "    plt.subplot(len(testing_data)*2,1,ii*2 + 2)\n",
    "    plotResult_colorbars(ld.labels, range(len(labels)),labelNames=label_types)\n",
    "plt.show()"
   ]
  },
  {
   "cell_type": "code",
   "execution_count": 52,
   "metadata": {},
   "outputs": [
    {
     "name": "stdout",
     "output_type": "stream",
     "text": [
      "37855 37855\n38059 38059\n39893 39893\n34573 34573\n48552 48552\n"
     ]
    }
   ],
   "source": [
    "for ii,(ld,fit_label) in enumerate(zip(testing_data,fit_labels)):\n",
    "    print len(ld.labels),len(fit_label)    \n",
    "\n"
   ]
  },
  {
   "cell_type": "code",
   "execution_count": 92,
   "metadata": {},
   "outputs": [],
   "source": [
    ""
   ]
  },
  {
   "cell_type": "code",
   "execution_count": 92,
   "metadata": {},
   "outputs": [],
   "source": [
    ""
   ]
  },
  {
   "cell_type": "code",
   "execution_count": 92,
   "metadata": {},
   "outputs": [
    {
     "data": {
      "text/plain": [
       "<matplotlib.axes._subplots.AxesSubplot at 0x7f3bc6fd1750>"
      ]
     },
     "execution_count": 92,
     "metadata": {},
     "output_type": "execute_result"
    }
   ],
   "source": [
    "filtered_labels = median_filter_labels(fit_label,1001)\n",
    "plt.subplot(2,1,1)\n",
    "plotResult_colorbars(filtered_labels, range(len(labels)),labelNames=label_types)\n",
    "plt.subplot(2,1,2)\n",
    "plotResult_colorbars(ld.labels, range(len(labels)),labelNames=label_types)"
   ]
  },
  {
   "cell_type": "code",
   "execution_count": null,
   "metadata": {},
   "outputs": [],
   "source": [
    "\n",
    "    "
   ]
  }
 ],
 "metadata": {
  "kernelspec": {
   "display_name": "Python 2",
   "language": "python",
   "name": "python2"
  },
  "language_info": {
   "codemirror_mode": {
    "name": "ipython",
    "version": 2
   },
   "file_extension": ".py",
   "mimetype": "text/x-python",
   "name": "python",
   "nbconvert_exporter": "python",
   "pygments_lexer": "ipython2",
   "version": "2.7.6"
  }
 },
 "nbformat": 4,
 "nbformat_minor": 0
}
